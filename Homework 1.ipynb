{
 "cells": [
  {
   "cell_type": "markdown",
   "metadata": {},
   "source": [
    "# Homework 1 - NL&IP\n",
    "\n",
    "## Preparing the Data\n",
    "\n",
    "Importing the modules"
   ]
  },
  {
   "cell_type": "code",
   "execution_count": 2,
   "metadata": {},
   "outputs": [],
   "source": [
    "import pandas as pd\n",
    "import numpy as np\n",
    "\n",
    "from sklearn.preprocessing import StandardScaler\n",
    "from sklearn.model_selection import train_test_split\n",
    "from sklearn.ensemble import ExtraTreesClassifier\n",
    "from sklearn.feature_selection import SelectFromModel\n",
    "from sklearn.neighbors import KNeighborsClassifier\n",
    "from sklearn.ensemble import RandomForestClassifier\n",
    "from sklearn.linear_model import LogisticRegression\n",
    "from sklearn.model_selection import cross_validate"
   ]
  },
  {
   "cell_type": "markdown",
   "metadata": {},
   "source": [
    "Retreiving the data from file and showing first elements"
   ]
  },
  {
   "cell_type": "code",
   "execution_count": 4,
   "metadata": {},
   "outputs": [
    {
     "data": {
      "text/html": [
       "<div>\n",
       "<style scoped>\n",
       "    .dataframe tbody tr th:only-of-type {\n",
       "        vertical-align: middle;\n",
       "    }\n",
       "\n",
       "    .dataframe tbody tr th {\n",
       "        vertical-align: top;\n",
       "    }\n",
       "\n",
       "    .dataframe thead th {\n",
       "        text-align: right;\n",
       "    }\n",
       "</style>\n",
       "<table border=\"1\" class=\"dataframe\">\n",
       "  <thead>\n",
       "    <tr style=\"text-align: right;\">\n",
       "      <th></th>\n",
       "      <th>feature_0</th>\n",
       "      <th>feature_1</th>\n",
       "      <th>feature_2</th>\n",
       "      <th>feature_3</th>\n",
       "      <th>feature_4</th>\n",
       "      <th>feature_5</th>\n",
       "      <th>feature_6</th>\n",
       "      <th>feature_7</th>\n",
       "      <th>feature_8</th>\n",
       "      <th>feature_9</th>\n",
       "      <th>...</th>\n",
       "      <th>feature_991</th>\n",
       "      <th>feature_992</th>\n",
       "      <th>feature_993</th>\n",
       "      <th>feature_994</th>\n",
       "      <th>feature_995</th>\n",
       "      <th>feature_996</th>\n",
       "      <th>feature_997</th>\n",
       "      <th>feature_998</th>\n",
       "      <th>feature_999</th>\n",
       "      <th>label</th>\n",
       "    </tr>\n",
       "  </thead>\n",
       "  <tbody>\n",
       "    <tr>\n",
       "      <th>0</th>\n",
       "      <td>-0.272674</td>\n",
       "      <td>0.801643</td>\n",
       "      <td>-0.650531</td>\n",
       "      <td>0.952486</td>\n",
       "      <td>-0.153037</td>\n",
       "      <td>0.427145</td>\n",
       "      <td>-1.085534</td>\n",
       "      <td>1.318513</td>\n",
       "      <td>0.002588</td>\n",
       "      <td>-1.849832</td>\n",
       "      <td>...</td>\n",
       "      <td>-0.572848</td>\n",
       "      <td>-0.448690</td>\n",
       "      <td>0.073369</td>\n",
       "      <td>-0.845503</td>\n",
       "      <td>-1.074903</td>\n",
       "      <td>0.222103</td>\n",
       "      <td>-1.024658</td>\n",
       "      <td>-0.711647</td>\n",
       "      <td>0.036411</td>\n",
       "      <td>1</td>\n",
       "    </tr>\n",
       "    <tr>\n",
       "      <th>1</th>\n",
       "      <td>0.201004</td>\n",
       "      <td>-0.263537</td>\n",
       "      <td>-0.793137</td>\n",
       "      <td>-4.483672</td>\n",
       "      <td>0.745123</td>\n",
       "      <td>1.156577</td>\n",
       "      <td>0.351558</td>\n",
       "      <td>1.735511</td>\n",
       "      <td>-1.490988</td>\n",
       "      <td>-0.327063</td>\n",
       "      <td>...</td>\n",
       "      <td>1.045496</td>\n",
       "      <td>1.494638</td>\n",
       "      <td>-0.776573</td>\n",
       "      <td>-1.219524</td>\n",
       "      <td>-0.756398</td>\n",
       "      <td>-0.963046</td>\n",
       "      <td>0.488610</td>\n",
       "      <td>0.313609</td>\n",
       "      <td>-0.490794</td>\n",
       "      <td>0</td>\n",
       "    </tr>\n",
       "    <tr>\n",
       "      <th>2</th>\n",
       "      <td>-1.834495</td>\n",
       "      <td>-0.305209</td>\n",
       "      <td>0.053789</td>\n",
       "      <td>4.448289</td>\n",
       "      <td>1.294481</td>\n",
       "      <td>1.241900</td>\n",
       "      <td>-1.358354</td>\n",
       "      <td>-0.211469</td>\n",
       "      <td>-0.186544</td>\n",
       "      <td>0.964812</td>\n",
       "      <td>...</td>\n",
       "      <td>0.917945</td>\n",
       "      <td>0.920003</td>\n",
       "      <td>0.690022</td>\n",
       "      <td>-0.834381</td>\n",
       "      <td>-0.261806</td>\n",
       "      <td>-0.061880</td>\n",
       "      <td>-1.177730</td>\n",
       "      <td>-1.345305</td>\n",
       "      <td>-0.085971</td>\n",
       "      <td>0</td>\n",
       "    </tr>\n",
       "    <tr>\n",
       "      <th>3</th>\n",
       "      <td>-0.484526</td>\n",
       "      <td>0.473056</td>\n",
       "      <td>-0.345463</td>\n",
       "      <td>-7.375136</td>\n",
       "      <td>-0.817676</td>\n",
       "      <td>-0.778446</td>\n",
       "      <td>0.909734</td>\n",
       "      <td>-0.677147</td>\n",
       "      <td>-1.913900</td>\n",
       "      <td>-0.087426</td>\n",
       "      <td>...</td>\n",
       "      <td>0.598949</td>\n",
       "      <td>0.078195</td>\n",
       "      <td>0.024128</td>\n",
       "      <td>1.308711</td>\n",
       "      <td>0.943230</td>\n",
       "      <td>0.903181</td>\n",
       "      <td>0.501013</td>\n",
       "      <td>2.639802</td>\n",
       "      <td>1.540640</td>\n",
       "      <td>1</td>\n",
       "    </tr>\n",
       "    <tr>\n",
       "      <th>4</th>\n",
       "      <td>-0.032351</td>\n",
       "      <td>0.247055</td>\n",
       "      <td>-0.351119</td>\n",
       "      <td>-2.669246</td>\n",
       "      <td>-1.068889</td>\n",
       "      <td>0.322954</td>\n",
       "      <td>1.101136</td>\n",
       "      <td>1.817973</td>\n",
       "      <td>0.944537</td>\n",
       "      <td>0.406005</td>\n",
       "      <td>...</td>\n",
       "      <td>-0.851188</td>\n",
       "      <td>1.272217</td>\n",
       "      <td>0.172442</td>\n",
       "      <td>-0.509007</td>\n",
       "      <td>0.357073</td>\n",
       "      <td>0.523263</td>\n",
       "      <td>0.965078</td>\n",
       "      <td>0.297335</td>\n",
       "      <td>0.088714</td>\n",
       "      <td>1</td>\n",
       "    </tr>\n",
       "    <tr>\n",
       "      <th>5</th>\n",
       "      <td>0.611700</td>\n",
       "      <td>-0.244822</td>\n",
       "      <td>0.583607</td>\n",
       "      <td>1.503404</td>\n",
       "      <td>-0.104725</td>\n",
       "      <td>0.943069</td>\n",
       "      <td>1.826918</td>\n",
       "      <td>-0.694449</td>\n",
       "      <td>-0.113367</td>\n",
       "      <td>0.909642</td>\n",
       "      <td>...</td>\n",
       "      <td>0.441221</td>\n",
       "      <td>-1.386731</td>\n",
       "      <td>2.167706</td>\n",
       "      <td>0.143728</td>\n",
       "      <td>-0.031690</td>\n",
       "      <td>-0.710304</td>\n",
       "      <td>-0.406994</td>\n",
       "      <td>1.284103</td>\n",
       "      <td>0.398134</td>\n",
       "      <td>1</td>\n",
       "    </tr>\n",
       "    <tr>\n",
       "      <th>6</th>\n",
       "      <td>-0.683728</td>\n",
       "      <td>0.624575</td>\n",
       "      <td>-2.098098</td>\n",
       "      <td>14.415604</td>\n",
       "      <td>0.089336</td>\n",
       "      <td>0.591611</td>\n",
       "      <td>0.292786</td>\n",
       "      <td>0.853558</td>\n",
       "      <td>2.063484</td>\n",
       "      <td>-1.549264</td>\n",
       "      <td>...</td>\n",
       "      <td>1.298536</td>\n",
       "      <td>0.848869</td>\n",
       "      <td>-2.538228</td>\n",
       "      <td>1.595099</td>\n",
       "      <td>-0.365556</td>\n",
       "      <td>2.755379</td>\n",
       "      <td>-1.017768</td>\n",
       "      <td>-0.028076</td>\n",
       "      <td>0.098568</td>\n",
       "      <td>0</td>\n",
       "    </tr>\n",
       "    <tr>\n",
       "      <th>7</th>\n",
       "      <td>0.522493</td>\n",
       "      <td>-1.551632</td>\n",
       "      <td>1.037685</td>\n",
       "      <td>4.540567</td>\n",
       "      <td>-2.180189</td>\n",
       "      <td>-1.091859</td>\n",
       "      <td>-0.155177</td>\n",
       "      <td>1.039134</td>\n",
       "      <td>-2.164338</td>\n",
       "      <td>-1.310618</td>\n",
       "      <td>...</td>\n",
       "      <td>0.263004</td>\n",
       "      <td>1.851860</td>\n",
       "      <td>0.440721</td>\n",
       "      <td>-0.005803</td>\n",
       "      <td>1.211405</td>\n",
       "      <td>0.489479</td>\n",
       "      <td>0.868569</td>\n",
       "      <td>0.726896</td>\n",
       "      <td>1.076512</td>\n",
       "      <td>1</td>\n",
       "    </tr>\n",
       "    <tr>\n",
       "      <th>8</th>\n",
       "      <td>0.722775</td>\n",
       "      <td>1.323710</td>\n",
       "      <td>-0.487995</td>\n",
       "      <td>-6.635840</td>\n",
       "      <td>0.371237</td>\n",
       "      <td>-0.643517</td>\n",
       "      <td>0.402858</td>\n",
       "      <td>-0.378908</td>\n",
       "      <td>-1.435613</td>\n",
       "      <td>-1.843280</td>\n",
       "      <td>...</td>\n",
       "      <td>0.977186</td>\n",
       "      <td>1.137189</td>\n",
       "      <td>-0.331244</td>\n",
       "      <td>1.068881</td>\n",
       "      <td>1.736115</td>\n",
       "      <td>0.171098</td>\n",
       "      <td>1.582741</td>\n",
       "      <td>-2.111628</td>\n",
       "      <td>-1.630762</td>\n",
       "      <td>1</td>\n",
       "    </tr>\n",
       "    <tr>\n",
       "      <th>9</th>\n",
       "      <td>-0.086277</td>\n",
       "      <td>-0.138011</td>\n",
       "      <td>0.488998</td>\n",
       "      <td>-6.420821</td>\n",
       "      <td>0.529817</td>\n",
       "      <td>-0.559980</td>\n",
       "      <td>-0.089184</td>\n",
       "      <td>-0.597874</td>\n",
       "      <td>0.780693</td>\n",
       "      <td>0.626407</td>\n",
       "      <td>...</td>\n",
       "      <td>-2.018879</td>\n",
       "      <td>-1.184220</td>\n",
       "      <td>1.086613</td>\n",
       "      <td>0.149949</td>\n",
       "      <td>-0.265005</td>\n",
       "      <td>-0.370810</td>\n",
       "      <td>0.314975</td>\n",
       "      <td>0.601241</td>\n",
       "      <td>-0.272400</td>\n",
       "      <td>1</td>\n",
       "    </tr>\n",
       "  </tbody>\n",
       "</table>\n",
       "<p>10 rows × 1001 columns</p>\n",
       "</div>"
      ],
      "text/plain": [
       "   feature_0  feature_1  feature_2  feature_3  feature_4  feature_5  \\\n",
       "0  -0.272674   0.801643  -0.650531   0.952486  -0.153037   0.427145   \n",
       "1   0.201004  -0.263537  -0.793137  -4.483672   0.745123   1.156577   \n",
       "2  -1.834495  -0.305209   0.053789   4.448289   1.294481   1.241900   \n",
       "3  -0.484526   0.473056  -0.345463  -7.375136  -0.817676  -0.778446   \n",
       "4  -0.032351   0.247055  -0.351119  -2.669246  -1.068889   0.322954   \n",
       "5   0.611700  -0.244822   0.583607   1.503404  -0.104725   0.943069   \n",
       "6  -0.683728   0.624575  -2.098098  14.415604   0.089336   0.591611   \n",
       "7   0.522493  -1.551632   1.037685   4.540567  -2.180189  -1.091859   \n",
       "8   0.722775   1.323710  -0.487995  -6.635840   0.371237  -0.643517   \n",
       "9  -0.086277  -0.138011   0.488998  -6.420821   0.529817  -0.559980   \n",
       "\n",
       "   feature_6  feature_7  feature_8  feature_9  ...    feature_991  \\\n",
       "0  -1.085534   1.318513   0.002588  -1.849832  ...      -0.572848   \n",
       "1   0.351558   1.735511  -1.490988  -0.327063  ...       1.045496   \n",
       "2  -1.358354  -0.211469  -0.186544   0.964812  ...       0.917945   \n",
       "3   0.909734  -0.677147  -1.913900  -0.087426  ...       0.598949   \n",
       "4   1.101136   1.817973   0.944537   0.406005  ...      -0.851188   \n",
       "5   1.826918  -0.694449  -0.113367   0.909642  ...       0.441221   \n",
       "6   0.292786   0.853558   2.063484  -1.549264  ...       1.298536   \n",
       "7  -0.155177   1.039134  -2.164338  -1.310618  ...       0.263004   \n",
       "8   0.402858  -0.378908  -1.435613  -1.843280  ...       0.977186   \n",
       "9  -0.089184  -0.597874   0.780693   0.626407  ...      -2.018879   \n",
       "\n",
       "   feature_992  feature_993  feature_994  feature_995  feature_996  \\\n",
       "0    -0.448690     0.073369    -0.845503    -1.074903     0.222103   \n",
       "1     1.494638    -0.776573    -1.219524    -0.756398    -0.963046   \n",
       "2     0.920003     0.690022    -0.834381    -0.261806    -0.061880   \n",
       "3     0.078195     0.024128     1.308711     0.943230     0.903181   \n",
       "4     1.272217     0.172442    -0.509007     0.357073     0.523263   \n",
       "5    -1.386731     2.167706     0.143728    -0.031690    -0.710304   \n",
       "6     0.848869    -2.538228     1.595099    -0.365556     2.755379   \n",
       "7     1.851860     0.440721    -0.005803     1.211405     0.489479   \n",
       "8     1.137189    -0.331244     1.068881     1.736115     0.171098   \n",
       "9    -1.184220     1.086613     0.149949    -0.265005    -0.370810   \n",
       "\n",
       "   feature_997  feature_998  feature_999  label  \n",
       "0    -1.024658    -0.711647     0.036411      1  \n",
       "1     0.488610     0.313609    -0.490794      0  \n",
       "2    -1.177730    -1.345305    -0.085971      0  \n",
       "3     0.501013     2.639802     1.540640      1  \n",
       "4     0.965078     0.297335     0.088714      1  \n",
       "5    -0.406994     1.284103     0.398134      1  \n",
       "6    -1.017768    -0.028076     0.098568      0  \n",
       "7     0.868569     0.726896     1.076512      1  \n",
       "8     1.582741    -2.111628    -1.630762      1  \n",
       "9     0.314975     0.601241    -0.272400      1  \n",
       "\n",
       "[10 rows x 1001 columns]"
      ]
     },
     "execution_count": 4,
     "metadata": {},
     "output_type": "execute_result"
    }
   ],
   "source": [
    "dataframe=pd.read_csv(\"dataset_simple.csv\")\n",
    "dataframe.head(10)"
   ]
  },
  {
   "cell_type": "markdown",
   "metadata": {},
   "source": [
    "Desribing the data"
   ]
  },
  {
   "cell_type": "code",
   "execution_count": 5,
   "metadata": {},
   "outputs": [
    {
     "data": {
      "text/html": [
       "<div>\n",
       "<style scoped>\n",
       "    .dataframe tbody tr th:only-of-type {\n",
       "        vertical-align: middle;\n",
       "    }\n",
       "\n",
       "    .dataframe tbody tr th {\n",
       "        vertical-align: top;\n",
       "    }\n",
       "\n",
       "    .dataframe thead th {\n",
       "        text-align: right;\n",
       "    }\n",
       "</style>\n",
       "<table border=\"1\" class=\"dataframe\">\n",
       "  <thead>\n",
       "    <tr style=\"text-align: right;\">\n",
       "      <th></th>\n",
       "      <th>feature_0</th>\n",
       "      <th>feature_1</th>\n",
       "      <th>feature_2</th>\n",
       "      <th>feature_3</th>\n",
       "      <th>feature_4</th>\n",
       "      <th>feature_5</th>\n",
       "      <th>feature_6</th>\n",
       "      <th>feature_7</th>\n",
       "      <th>feature_8</th>\n",
       "      <th>feature_9</th>\n",
       "      <th>...</th>\n",
       "      <th>feature_991</th>\n",
       "      <th>feature_992</th>\n",
       "      <th>feature_993</th>\n",
       "      <th>feature_994</th>\n",
       "      <th>feature_995</th>\n",
       "      <th>feature_996</th>\n",
       "      <th>feature_997</th>\n",
       "      <th>feature_998</th>\n",
       "      <th>feature_999</th>\n",
       "      <th>label</th>\n",
       "    </tr>\n",
       "  </thead>\n",
       "  <tbody>\n",
       "    <tr>\n",
       "      <th>count</th>\n",
       "      <td>9999.000000</td>\n",
       "      <td>9999.000000</td>\n",
       "      <td>9999.000000</td>\n",
       "      <td>9999.000000</td>\n",
       "      <td>9999.000000</td>\n",
       "      <td>9999.000000</td>\n",
       "      <td>9999.000000</td>\n",
       "      <td>9999.000000</td>\n",
       "      <td>9999.000000</td>\n",
       "      <td>9999.000000</td>\n",
       "      <td>...</td>\n",
       "      <td>9999.000000</td>\n",
       "      <td>9999.000000</td>\n",
       "      <td>9999.000000</td>\n",
       "      <td>9999.000000</td>\n",
       "      <td>9999.000000</td>\n",
       "      <td>9999.000000</td>\n",
       "      <td>9999.000000</td>\n",
       "      <td>9999.000000</td>\n",
       "      <td>9999.000000</td>\n",
       "      <td>9999.000000</td>\n",
       "    </tr>\n",
       "    <tr>\n",
       "      <th>mean</th>\n",
       "      <td>-0.004460</td>\n",
       "      <td>-0.013556</td>\n",
       "      <td>-0.003732</td>\n",
       "      <td>-0.526323</td>\n",
       "      <td>0.005371</td>\n",
       "      <td>-0.008539</td>\n",
       "      <td>0.017156</td>\n",
       "      <td>-0.001695</td>\n",
       "      <td>0.016588</td>\n",
       "      <td>-0.011591</td>\n",
       "      <td>...</td>\n",
       "      <td>0.004245</td>\n",
       "      <td>0.004588</td>\n",
       "      <td>0.000104</td>\n",
       "      <td>-0.004114</td>\n",
       "      <td>-0.015524</td>\n",
       "      <td>0.003792</td>\n",
       "      <td>-0.012826</td>\n",
       "      <td>-0.000154</td>\n",
       "      <td>0.008867</td>\n",
       "      <td>0.493149</td>\n",
       "    </tr>\n",
       "    <tr>\n",
       "      <th>std</th>\n",
       "      <td>0.991939</td>\n",
       "      <td>1.004086</td>\n",
       "      <td>1.004643</td>\n",
       "      <td>5.892651</td>\n",
       "      <td>0.995250</td>\n",
       "      <td>1.001142</td>\n",
       "      <td>0.995826</td>\n",
       "      <td>1.000576</td>\n",
       "      <td>1.016175</td>\n",
       "      <td>0.994338</td>\n",
       "      <td>...</td>\n",
       "      <td>1.010292</td>\n",
       "      <td>0.996613</td>\n",
       "      <td>0.984661</td>\n",
       "      <td>1.005568</td>\n",
       "      <td>1.000405</td>\n",
       "      <td>0.992878</td>\n",
       "      <td>0.986676</td>\n",
       "      <td>1.003824</td>\n",
       "      <td>0.992667</td>\n",
       "      <td>0.499978</td>\n",
       "    </tr>\n",
       "    <tr>\n",
       "      <th>min</th>\n",
       "      <td>-3.769974</td>\n",
       "      <td>-3.617617</td>\n",
       "      <td>-3.753391</td>\n",
       "      <td>-21.830355</td>\n",
       "      <td>-3.952088</td>\n",
       "      <td>-4.302776</td>\n",
       "      <td>-3.693491</td>\n",
       "      <td>-3.769295</td>\n",
       "      <td>-3.582291</td>\n",
       "      <td>-3.964497</td>\n",
       "      <td>...</td>\n",
       "      <td>-3.543944</td>\n",
       "      <td>-3.702521</td>\n",
       "      <td>-3.645616</td>\n",
       "      <td>-3.757164</td>\n",
       "      <td>-3.998032</td>\n",
       "      <td>-3.844831</td>\n",
       "      <td>-4.314576</td>\n",
       "      <td>-3.912707</td>\n",
       "      <td>-3.852604</td>\n",
       "      <td>0.000000</td>\n",
       "    </tr>\n",
       "    <tr>\n",
       "      <th>25%</th>\n",
       "      <td>-0.667193</td>\n",
       "      <td>-0.702984</td>\n",
       "      <td>-0.666734</td>\n",
       "      <td>-4.535838</td>\n",
       "      <td>-0.664072</td>\n",
       "      <td>-0.676919</td>\n",
       "      <td>-0.657419</td>\n",
       "      <td>-0.678497</td>\n",
       "      <td>-0.670545</td>\n",
       "      <td>-0.696125</td>\n",
       "      <td>...</td>\n",
       "      <td>-0.686178</td>\n",
       "      <td>-0.674913</td>\n",
       "      <td>-0.663270</td>\n",
       "      <td>-0.676386</td>\n",
       "      <td>-0.690162</td>\n",
       "      <td>-0.660690</td>\n",
       "      <td>-0.671733</td>\n",
       "      <td>-0.689658</td>\n",
       "      <td>-0.653306</td>\n",
       "      <td>0.000000</td>\n",
       "    </tr>\n",
       "    <tr>\n",
       "      <th>50%</th>\n",
       "      <td>0.006990</td>\n",
       "      <td>-0.019359</td>\n",
       "      <td>0.002527</td>\n",
       "      <td>-0.596745</td>\n",
       "      <td>0.008596</td>\n",
       "      <td>-0.014751</td>\n",
       "      <td>0.023373</td>\n",
       "      <td>-0.005377</td>\n",
       "      <td>0.007411</td>\n",
       "      <td>-0.023052</td>\n",
       "      <td>...</td>\n",
       "      <td>-0.002653</td>\n",
       "      <td>0.000651</td>\n",
       "      <td>-0.005459</td>\n",
       "      <td>-0.002117</td>\n",
       "      <td>-0.017218</td>\n",
       "      <td>0.005911</td>\n",
       "      <td>-0.009118</td>\n",
       "      <td>0.024641</td>\n",
       "      <td>-0.002785</td>\n",
       "      <td>0.000000</td>\n",
       "    </tr>\n",
       "    <tr>\n",
       "      <th>75%</th>\n",
       "      <td>0.655618</td>\n",
       "      <td>0.667009</td>\n",
       "      <td>0.660033</td>\n",
       "      <td>3.367154</td>\n",
       "      <td>0.672424</td>\n",
       "      <td>0.662462</td>\n",
       "      <td>0.697545</td>\n",
       "      <td>0.662622</td>\n",
       "      <td>0.720524</td>\n",
       "      <td>0.668373</td>\n",
       "      <td>...</td>\n",
       "      <td>0.682821</td>\n",
       "      <td>0.680257</td>\n",
       "      <td>0.668761</td>\n",
       "      <td>0.675716</td>\n",
       "      <td>0.660026</td>\n",
       "      <td>0.680975</td>\n",
       "      <td>0.647070</td>\n",
       "      <td>0.674688</td>\n",
       "      <td>0.677321</td>\n",
       "      <td>1.000000</td>\n",
       "    </tr>\n",
       "    <tr>\n",
       "      <th>max</th>\n",
       "      <td>3.629974</td>\n",
       "      <td>4.437563</td>\n",
       "      <td>3.724971</td>\n",
       "      <td>20.021875</td>\n",
       "      <td>3.444207</td>\n",
       "      <td>3.502859</td>\n",
       "      <td>3.925565</td>\n",
       "      <td>4.069058</td>\n",
       "      <td>5.209648</td>\n",
       "      <td>3.871048</td>\n",
       "      <td>...</td>\n",
       "      <td>3.616481</td>\n",
       "      <td>4.456758</td>\n",
       "      <td>3.727838</td>\n",
       "      <td>3.959971</td>\n",
       "      <td>3.520052</td>\n",
       "      <td>4.305980</td>\n",
       "      <td>3.671758</td>\n",
       "      <td>3.555786</td>\n",
       "      <td>3.574397</td>\n",
       "      <td>1.000000</td>\n",
       "    </tr>\n",
       "  </tbody>\n",
       "</table>\n",
       "<p>8 rows × 1001 columns</p>\n",
       "</div>"
      ],
      "text/plain": [
       "         feature_0    feature_1    feature_2    feature_3    feature_4  \\\n",
       "count  9999.000000  9999.000000  9999.000000  9999.000000  9999.000000   \n",
       "mean     -0.004460    -0.013556    -0.003732    -0.526323     0.005371   \n",
       "std       0.991939     1.004086     1.004643     5.892651     0.995250   \n",
       "min      -3.769974    -3.617617    -3.753391   -21.830355    -3.952088   \n",
       "25%      -0.667193    -0.702984    -0.666734    -4.535838    -0.664072   \n",
       "50%       0.006990    -0.019359     0.002527    -0.596745     0.008596   \n",
       "75%       0.655618     0.667009     0.660033     3.367154     0.672424   \n",
       "max       3.629974     4.437563     3.724971    20.021875     3.444207   \n",
       "\n",
       "         feature_5    feature_6    feature_7    feature_8    feature_9  \\\n",
       "count  9999.000000  9999.000000  9999.000000  9999.000000  9999.000000   \n",
       "mean     -0.008539     0.017156    -0.001695     0.016588    -0.011591   \n",
       "std       1.001142     0.995826     1.000576     1.016175     0.994338   \n",
       "min      -4.302776    -3.693491    -3.769295    -3.582291    -3.964497   \n",
       "25%      -0.676919    -0.657419    -0.678497    -0.670545    -0.696125   \n",
       "50%      -0.014751     0.023373    -0.005377     0.007411    -0.023052   \n",
       "75%       0.662462     0.697545     0.662622     0.720524     0.668373   \n",
       "max       3.502859     3.925565     4.069058     5.209648     3.871048   \n",
       "\n",
       "          ...       feature_991  feature_992  feature_993  feature_994  \\\n",
       "count     ...       9999.000000  9999.000000  9999.000000  9999.000000   \n",
       "mean      ...          0.004245     0.004588     0.000104    -0.004114   \n",
       "std       ...          1.010292     0.996613     0.984661     1.005568   \n",
       "min       ...         -3.543944    -3.702521    -3.645616    -3.757164   \n",
       "25%       ...         -0.686178    -0.674913    -0.663270    -0.676386   \n",
       "50%       ...         -0.002653     0.000651    -0.005459    -0.002117   \n",
       "75%       ...          0.682821     0.680257     0.668761     0.675716   \n",
       "max       ...          3.616481     4.456758     3.727838     3.959971   \n",
       "\n",
       "       feature_995  feature_996  feature_997  feature_998  feature_999  \\\n",
       "count  9999.000000  9999.000000  9999.000000  9999.000000  9999.000000   \n",
       "mean     -0.015524     0.003792    -0.012826    -0.000154     0.008867   \n",
       "std       1.000405     0.992878     0.986676     1.003824     0.992667   \n",
       "min      -3.998032    -3.844831    -4.314576    -3.912707    -3.852604   \n",
       "25%      -0.690162    -0.660690    -0.671733    -0.689658    -0.653306   \n",
       "50%      -0.017218     0.005911    -0.009118     0.024641    -0.002785   \n",
       "75%       0.660026     0.680975     0.647070     0.674688     0.677321   \n",
       "max       3.520052     4.305980     3.671758     3.555786     3.574397   \n",
       "\n",
       "             label  \n",
       "count  9999.000000  \n",
       "mean      0.493149  \n",
       "std       0.499978  \n",
       "min       0.000000  \n",
       "25%       0.000000  \n",
       "50%       0.000000  \n",
       "75%       1.000000  \n",
       "max       1.000000  \n",
       "\n",
       "[8 rows x 1001 columns]"
      ]
     },
     "execution_count": 5,
     "metadata": {},
     "output_type": "execute_result"
    }
   ],
   "source": [
    "dataframe.describe()"
   ]
  },
  {
   "cell_type": "markdown",
   "metadata": {},
   "source": [
    "Ensuring data set is not assymetric"
   ]
  },
  {
   "cell_type": "code",
   "execution_count": 6,
   "metadata": {},
   "outputs": [
    {
     "data": {
      "text/plain": [
       "0    5068\n",
       "1    4931\n",
       "Name: label, dtype: int64"
      ]
     },
     "execution_count": 6,
     "metadata": {},
     "output_type": "execute_result"
    }
   ],
   "source": [
    "dataframe.shape\n",
    "dataframe['label'].value_counts()"
   ]
  },
  {
   "cell_type": "markdown",
   "metadata": {},
   "source": [
    "Getting x and y and getting rid of label entries in x"
   ]
  },
  {
   "cell_type": "code",
   "execution_count": 7,
   "metadata": {},
   "outputs": [],
   "source": [
    "x_matrix = dataframe.copy()\n",
    "x_matrix.drop(['label'], axis=1, inplace=True)\n",
    "y_vector = dataframe['label']"
   ]
  },
  {
   "cell_type": "markdown",
   "metadata": {},
   "source": [
    "Normalizing data set"
   ]
  },
  {
   "cell_type": "code",
   "execution_count": 8,
   "metadata": {},
   "outputs": [],
   "source": [
    "sc = StandardScaler()\n",
    "sc.fit(x_matrix)\n",
    "x_matrix = sc.transform(x_matrix)"
   ]
  },
  {
   "cell_type": "markdown",
   "metadata": {},
   "source": [
    "## Feature selection"
   ]
  },
  {
   "cell_type": "code",
   "execution_count": 9,
   "metadata": {},
   "outputs": [
    {
     "data": {
      "text/plain": [
       "(9999, 147)"
      ]
     },
     "execution_count": 9,
     "metadata": {},
     "output_type": "execute_result"
    }
   ],
   "source": [
    "classif = ExtraTreesClassifier(n_estimators=100)\n",
    "classif = classif.fit(x_matrix, y_vector)\n",
    "classif.feature_importances_  \n",
    "selected = SelectFromModel(classif, prefit=True)\n",
    "x_matrix_new = selected.transform(x_matrix)\n",
    "x_matrix_new.shape"
   ]
  },
  {
   "cell_type": "markdown",
   "metadata": {},
   "source": [
    "Splitting data into desired samples"
   ]
  },
  {
   "cell_type": "code",
   "execution_count": 10,
   "metadata": {},
   "outputs": [],
   "source": [
    "X_train, X_test, y_train, y_test = train_test_split(x_matrix_new, y_vector, test_size=0.33, random_state=42,shuffle=True)"
   ]
  },
  {
   "cell_type": "markdown",
   "metadata": {},
   "source": [
    "## Getting classifiers for three models"
   ]
  },
  {
   "cell_type": "code",
   "execution_count": 11,
   "metadata": {},
   "outputs": [],
   "source": [
    "classif_LR = LogisticRegression()\n",
    "classif_KN = KNeighborsClassifier()\n",
    "classif_RF = RandomForestClassifier()"
   ]
  },
  {
   "cell_type": "markdown",
   "metadata": {},
   "source": [
    "## Retreiving the models on training sample "
   ]
  },
  {
   "cell_type": "markdown",
   "metadata": {},
   "source": [
    "### Loglikelihood"
   ]
  },
  {
   "cell_type": "code",
   "execution_count": 12,
   "metadata": {},
   "outputs": [
    {
     "data": {
      "text/plain": [
       "LogisticRegression(C=1.0, class_weight=None, dual=False, fit_intercept=True,\n",
       "          intercept_scaling=1, max_iter=100, multi_class='ovr', n_jobs=1,\n",
       "          penalty='l2', random_state=None, solver='liblinear', tol=0.0001,\n",
       "          verbose=0, warm_start=False)"
      ]
     },
     "execution_count": 12,
     "metadata": {},
     "output_type": "execute_result"
    }
   ],
   "source": [
    "classif_LR.fit(X_train, y_train)"
   ]
  },
  {
   "cell_type": "markdown",
   "metadata": {},
   "source": [
    "### KNearestNeighbour"
   ]
  },
  {
   "cell_type": "code",
   "execution_count": 16,
   "metadata": {},
   "outputs": [
    {
     "data": {
      "text/plain": [
       "KNeighborsClassifier(algorithm='auto', leaf_size=30, metric='minkowski',\n",
       "           metric_params=None, n_jobs=1, n_neighbors=5, p=2,\n",
       "           weights='uniform')"
      ]
     },
     "execution_count": 16,
     "metadata": {},
     "output_type": "execute_result"
    }
   ],
   "source": [
    "classif_KN.fit(X_train, y_train)"
   ]
  },
  {
   "cell_type": "markdown",
   "metadata": {},
   "source": [
    "### Random Forest"
   ]
  },
  {
   "cell_type": "code",
   "execution_count": 17,
   "metadata": {},
   "outputs": [
    {
     "data": {
      "text/plain": [
       "RandomForestClassifier(bootstrap=True, class_weight=None, criterion='gini',\n",
       "            max_depth=None, max_features='auto', max_leaf_nodes=None,\n",
       "            min_impurity_decrease=0.0, min_impurity_split=None,\n",
       "            min_samples_leaf=1, min_samples_split=2,\n",
       "            min_weight_fraction_leaf=0.0, n_estimators=10, n_jobs=1,\n",
       "            oob_score=False, random_state=None, verbose=0,\n",
       "            warm_start=False)"
      ]
     },
     "execution_count": 17,
     "metadata": {},
     "output_type": "execute_result"
    }
   ],
   "source": [
    "classif_RF.fit(X_train, y_train)"
   ]
  },
  {
   "cell_type": "markdown",
   "metadata": {},
   "source": [
    "## Cross Validation"
   ]
  },
  {
   "cell_type": "markdown",
   "metadata": {},
   "source": [
    "### Loglikelihood"
   ]
  },
  {
   "cell_type": "code",
   "execution_count": 19,
   "metadata": {},
   "outputs": [
    {
     "name": "stdout",
     "output_type": "stream",
     "text": [
      "AUC Loglikelihood:  [0.90794304 0.91471521 0.9075777  0.90039564 0.9239022  0.89741945\n",
      " 0.90926183 0.91531223 0.90404904 0.89912414]\n",
      "Mean AUC:  0.9079700487085531\n",
      "\n"
     ]
    }
   ],
   "source": [
    "scores_LR = cross_validate(estimator=classif_LR, X=X_train, y=y_train, cv=10, scoring='roc_auc')\n",
    "\n",
    "print('AUC Loglikelihood: ', scores_LR['test_score'])\n",
    "print('Mean AUC: ', np.mean(scores_LR['test_score']))\n",
    "print(\"\")"
   ]
  },
  {
   "cell_type": "markdown",
   "metadata": {},
   "source": [
    "### KNearestNeighbour"
   ]
  },
  {
   "cell_type": "code",
   "execution_count": 20,
   "metadata": {},
   "outputs": [
    {
     "name": "stdout",
     "output_type": "stream",
     "text": [
      "AUC KNeighbours:  [0.98650021 0.99349515 0.98882146 0.98128297 0.98338591 0.98369333\n",
      " 0.98905314 0.97939389 0.98410322 0.983238  ]\n",
      "Mean AUC:  0.9852967293025887\n",
      "\n"
     ]
    }
   ],
   "source": [
    "scores_KN = cross_validate(estimator=classif_KN, X=X_train, y=y_train, cv=10, scoring='roc_auc')\n",
    "\n",
    "print('AUC KNeighbours: ', scores_KN['test_score'])\n",
    "print('Mean AUC: ', np.mean(scores_KN['test_score']))\n",
    "print(\"\")"
   ]
  },
  {
   "cell_type": "markdown",
   "metadata": {},
   "source": [
    "### Random Forest"
   ]
  },
  {
   "cell_type": "code",
   "execution_count": 21,
   "metadata": {},
   "outputs": [
    {
     "name": "stdout",
     "output_type": "stream",
     "text": [
      "AUC Random Forest:  [0.78567419 0.8262181  0.79267804 0.82247113 0.80495259 0.81884\n",
      " 0.8143267  0.81613559 0.81821179 0.81372777]\n",
      "Mean AUC:  0.8113235894947843\n",
      "\n"
     ]
    }
   ],
   "source": [
    "scores_RF = cross_validate(estimator=classif_RF, X=X_train, y=y_train, cv=10, scoring='roc_auc')\n",
    "\n",
    "print('AUC Random Forest: ', scores_RF['test_score'])\n",
    "print('Mean AUC: ', np.mean(scores_RF['test_score']))\n",
    "print(\"\")"
   ]
  },
  {
   "cell_type": "markdown",
   "metadata": {},
   "source": [
    "## Conclusion"
   ]
  },
  {
   "cell_type": "markdown",
   "metadata": {},
   "source": [
    "Cross valuation shows that KNearestNeigbour is the most accurate model when dealing with this data. Its area under the curve score is 98.5%, significantly better than the two other models. "
   ]
  }
 ],
 "metadata": {
  "kernelspec": {
   "display_name": "Python 3",
   "language": "python",
   "name": "python3"
  },
  "language_info": {
   "codemirror_mode": {
    "name": "ipython",
    "version": 3
   },
   "file_extension": ".py",
   "mimetype": "text/x-python",
   "name": "python",
   "nbconvert_exporter": "python",
   "pygments_lexer": "ipython3",
   "version": "3.6.5"
  }
 },
 "nbformat": 4,
 "nbformat_minor": 2
}
